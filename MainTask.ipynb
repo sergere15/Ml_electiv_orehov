{
 "cells": [
  {
   "cell_type": "code",
   "execution_count": 1,
   "metadata": {},
   "outputs": [],
   "source": [
    "import numpy as np\n",
    "import pandas as pd\n",
    "import matplotlib\n",
    "import matplotlib.pyplot as plt\n",
    "\n",
    "\n",
    "\n",
    "import os\n",
    "os.chdir(\"D:/Documents/Ml_electiv_Orehov/bbc-fulltext/bbc\")\n",
    "import math\n",
    "import string\n",
    "\n",
    "from sklearn.cluster import DBSCAN\n",
    "from sklearn.cluster import OPTICS\n",
    "from sklearn.feature_extraction.text import TfidfVectorizer\n",
    "from sklearn.cluster import KMeans\n",
    "from sklearn.metrics.cluster import v_measure_score\n",
    "\n",
    "from scipy.cluster.hierarchy import dendrogram, linkage, fcluster"
   ]
  },
  {
   "cell_type": "code",
   "execution_count": 2,
   "metadata": {},
   "outputs": [],
   "source": [
    "import nltk \n",
    "from nltk.corpus import stopwords\n",
    "from nltk.stem import WordNetLemmatizer\n",
    "\n",
    "#nltk.download(\"stopwords\")\n",
    "#nltk.download(\"wordnet\")"
   ]
  },
  {
   "cell_type": "code",
   "execution_count": 3,
   "metadata": {},
   "outputs": [],
   "source": [
    "directories = [\"business\", \"entertainment\", \"politics\", \"sport\", \"tech\" ]\n",
    "\n",
    "path = \"D:/Documents/Ml_electiv_Orehov/bbc-fulltext/bbc\"\n",
    "path_filtred = \"D:/Documents/Ml_electiv_Orehov/bbc_preprocesed\"\n",
    "\n",
    "#for folder in directories:\n",
    "#    os.mkdir(path_filtred + \"/\" + folder)"
   ]
  },
  {
   "cell_type": "markdown",
   "metadata": {},
   "source": [
    "## Data preprocessing"
   ]
  },
  {
   "cell_type": "code",
   "execution_count": 4,
   "metadata": {},
   "outputs": [],
   "source": [
    "stop_words = set(stopwords.words('english'))  \n",
    "\n",
    "\n",
    "for curr_dir in directories:\n",
    "    files_name = os.listdir(curr_dir)\n",
    "    for file in files_name:\n",
    "        \n",
    "        file1 = open(path + \"/\" + curr_dir + \"/\" + file)  \n",
    "        # Use this to read file content as a stream:  \n",
    "        appendFile = open(path_filtred + \"/\" + curr_dir + \"/\" + file,'w') \n",
    "\n",
    "        line = file1.read().lower().translate(str.maketrans('', '', string.punctuation))\n",
    "        words = line.split()  \n",
    "        for r in words:  \n",
    "            if not r in stop_words:  \n",
    "                lemmatizer = WordNetLemmatizer()\n",
    "                r = lemmatizer.lemmatize(r)\n",
    "                appendFile.write(\" \"+r)  \n",
    "        appendFile.close()  "
   ]
  },
  {
   "cell_type": "code",
   "execution_count": 5,
   "metadata": {},
   "outputs": [],
   "source": [
    "words_or = []\n",
    "words_pre = []\n",
    "\n",
    "for curr_dir in directories:\n",
    "    files_name = os.listdir(curr_dir)\n",
    "    for file in files_name:\n",
    "        \n",
    "        file_check_orig = open(path + \"/\" + curr_dir + \"/\" + file)  \n",
    "        file_check_pre = open(path_filtred + \"/\" + curr_dir + \"/\" + file) \n",
    "\n",
    "        line1 = file_check_orig.read() \n",
    "        words1 = line1.split()  \n",
    "\n",
    "        line2 = file_check_pre.read()\n",
    "        words2 = line2.split() \n",
    "        \n",
    "        words_or.append(len(words1))\n",
    "        words_pre.append(len(words2))\n"
   ]
  },
  {
   "cell_type": "code",
   "execution_count": 6,
   "metadata": {
    "scrolled": true
   },
   "outputs": [
    {
     "name": "stdout",
     "output_type": "stream",
     "text": [
      "358619\n"
     ]
    }
   ],
   "source": [
    "print(sum(words_or) - sum(words_pre))"
   ]
  },
  {
   "cell_type": "code",
   "execution_count": 7,
   "metadata": {},
   "outputs": [],
   "source": [
    "def get_sentences_array(path_fold):\n",
    "    sentences = []\n",
    "    for curr_dir in directories:\n",
    "        files_name = os.listdir(curr_dir)\n",
    "        for file in files_name:\n",
    "            file_check_pre = open(path_fold + \"/\" + curr_dir + \"/\" + file) \n",
    "            line = file_check_pre.read() \n",
    "            sentences.append(line)\n",
    "    return sentences\n"
   ]
  },
  {
   "cell_type": "code",
   "execution_count": 8,
   "metadata": {},
   "outputs": [],
   "source": [
    "data_preproc = get_sentences_array(path_filtred)\n",
    "data_raw = get_sentences_array(path)"
   ]
  },
  {
   "cell_type": "markdown",
   "metadata": {},
   "source": [
    "## Tfid"
   ]
  },
  {
   "cell_type": "markdown",
   "metadata": {},
   "source": [
    "On raw data"
   ]
  },
  {
   "cell_type": "code",
   "execution_count": 9,
   "metadata": {},
   "outputs": [],
   "source": [
    "files_list = []\n",
    "\n",
    "for curr_dir in directories:\n",
    "    files_list += list(map(lambda x: path + \"/\" + curr_dir + \"/\" + x, os.listdir(curr_dir)))\n",
    "\n",
    "vectorizer = TfidfVectorizer(input = 'filename', encoding = 'windows-1251', stop_words='english')\n",
    "X = vectorizer.fit_transform(files_list)"
   ]
  },
  {
   "cell_type": "markdown",
   "metadata": {},
   "source": [
    "On prepoc data"
   ]
  },
  {
   "cell_type": "code",
   "execution_count": 10,
   "metadata": {},
   "outputs": [],
   "source": [
    "files_list = []\n",
    "\n",
    "for curr_dir in directories:\n",
    "    files_list += list(map(lambda x: path_filtred + \"/\" + curr_dir + \"/\" + x, os.listdir(curr_dir)))\n",
    "\n",
    "vectorizer = TfidfVectorizer(input = 'filename', encoding = 'windows-1251', stop_words='english')\n",
    "X = vectorizer.fit_transform(files_list)"
   ]
  },
  {
   "cell_type": "markdown",
   "metadata": {},
   "source": [
    "## Universal Sentence Encoder"
   ]
  },
  {
   "cell_type": "code",
   "execution_count": 11,
   "metadata": {
    "scrolled": true
   },
   "outputs": [],
   "source": [
    "from sentence_transformers import SentenceTransformer"
   ]
  },
  {
   "cell_type": "code",
   "execution_count": 12,
   "metadata": {},
   "outputs": [],
   "source": [
    "model = SentenceTransformer('paraphrase-distilroberta-base-v1')\n",
    "sentence_embeddings = model.encode(data_preproc)"
   ]
  },
  {
   "cell_type": "code",
   "execution_count": 13,
   "metadata": {
    "scrolled": true
   },
   "outputs": [],
   "source": [
    "#len(sentence_embeddings)\n",
    "#sentence_embeddings"
   ]
  },
  {
   "cell_type": "markdown",
   "metadata": {},
   "source": [
    "## Word to vector"
   ]
  },
  {
   "cell_type": "code",
   "execution_count": 14,
   "metadata": {},
   "outputs": [],
   "source": [
    "import gensim \n",
    "from gensim.models import Word2Vec \n",
    "from gensim.models.doc2vec import Doc2Vec, TaggedDocument\n",
    "import gensim.downloader\n",
    "\n",
    "from tqdm.notebook import tqdm\n"
   ]
  },
  {
   "cell_type": "code",
   "execution_count": 15,
   "metadata": {
    "scrolled": true
   },
   "outputs": [],
   "source": [
    "model_W2V = gensim.downloader.load(\"fasttext-wiki-news-subwords-300\")"
   ]
  },
  {
   "cell_type": "code",
   "execution_count": 16,
   "metadata": {},
   "outputs": [
    {
     "data": {
      "application/vnd.jupyter.widget-view+json": {
       "model_id": "c697f98d724d4158a35d6226781f9b7c",
       "version_major": 2,
       "version_minor": 0
      },
      "text/plain": [
       "HBox(children=(HTML(value=''), FloatProgress(value=0.0, max=2225.0), HTML(value='')))"
      ]
     },
     "metadata": {},
     "output_type": "display_data"
    },
    {
     "name": "stdout",
     "output_type": "stream",
     "text": [
      "\n"
     ]
    }
   ],
   "source": [
    "w2v_vectors = np.zeros((len(data_preproc), 768))\n",
    "i = 0\n",
    "for text in tqdm(data_preproc):\n",
    "    w2v_vectors[i, :] = (model.encode(text))\n",
    "    i+=1"
   ]
  },
  {
   "cell_type": "code",
   "execution_count": 17,
   "metadata": {},
   "outputs": [
    {
     "data": {
      "text/plain": [
       "array([[ 0.20961735,  0.75620496,  0.23501317, ...,  0.06317167,\n",
       "         0.08754514, -0.03970887],\n",
       "       [ 0.24034563,  0.3765946 ,  0.15452823, ..., -0.08317673,\n",
       "        -0.00476325,  0.04105883],\n",
       "       [ 0.3800666 ,  0.26944274,  0.29238385, ..., -0.52327061,\n",
       "         0.14515676,  0.14745495],\n",
       "       ...,\n",
       "       [ 0.35998899,  0.46702167,  0.46871951, ...,  0.19311427,\n",
       "        -0.12772988, -0.13798027],\n",
       "       [ 0.26303804,  0.29544628,  0.16251446, ..., -0.11912133,\n",
       "         0.07830465,  0.11368729],\n",
       "       [-0.29621089,  0.44417578,  0.44771832, ...,  0.04109643,\n",
       "        -0.22081825, -0.17244266]])"
      ]
     },
     "execution_count": 17,
     "metadata": {},
     "output_type": "execute_result"
    }
   ],
   "source": [
    "w2v_vectors "
   ]
  },
  {
   "cell_type": "code",
   "execution_count": 18,
   "metadata": {},
   "outputs": [],
   "source": [
    "def get_files_paths_list (path_):\n",
    "    files_paths = []\n",
    "    for curr_dir in directories:\n",
    "        files_name = os.listdir(curr_dir)\n",
    "        for file in files_name:  \n",
    "            files_paths.append(path_ + \"/\" + curr_dir + \"/\" + file)  \n",
    "    return files_paths\n"
   ]
  },
  {
   "cell_type": "code",
   "execution_count": 19,
   "metadata": {},
   "outputs": [],
   "source": [
    "docs_paths = get_files_paths_list(path_filtred)"
   ]
  },
  {
   "cell_type": "markdown",
   "metadata": {},
   "source": [
    "## Clustering "
   ]
  },
  {
   "cell_type": "markdown",
   "metadata": {},
   "source": [
    "### DBSCAN + OPTICS"
   ]
  },
  {
   "cell_type": "code",
   "execution_count": 20,
   "metadata": {},
   "outputs": [
    {
     "data": {
      "text/plain": [
       "array([-1, -1, -1, ..., -1, -1, -1], dtype=int64)"
      ]
     },
     "execution_count": 20,
     "metadata": {},
     "output_type": "execute_result"
    }
   ],
   "source": [
    "clustering_DB_USE = DBSCAN().fit(sentence_embeddings)\n",
    "clustering_DB_USE.labels_"
   ]
  },
  {
   "cell_type": "code",
   "execution_count": 21,
   "metadata": {},
   "outputs": [
    {
     "data": {
      "text/plain": [
       "array([-1, -1, -1, ..., -1, -1, -1])"
      ]
     },
     "execution_count": 21,
     "metadata": {},
     "output_type": "execute_result"
    }
   ],
   "source": [
    "clustering_OPTICS_USE = OPTICS().fit(sentence_embeddings)\n",
    "clustering_OPTICS_USE.labels_"
   ]
  },
  {
   "cell_type": "code",
   "execution_count": 22,
   "metadata": {},
   "outputs": [
    {
     "data": {
      "text/plain": [
       "array([-1, -1, -1, ..., -1, -1, -1], dtype=int64)"
      ]
     },
     "execution_count": 22,
     "metadata": {},
     "output_type": "execute_result"
    }
   ],
   "source": [
    "clustering_DB_TFID = DBSCAN().fit(X)\n",
    "clustering_DB_TFID.labels_"
   ]
  },
  {
   "cell_type": "code",
   "execution_count": 23,
   "metadata": {
    "scrolled": true
   },
   "outputs": [
    {
     "data": {
      "text/plain": [
       "array([-1, -1, 13, ..., 21, -1, -1])"
      ]
     },
     "execution_count": 23,
     "metadata": {},
     "output_type": "execute_result"
    }
   ],
   "source": [
    "clustering_OPTICS_TFID = OPTICS().fit(X.toarray())\n",
    "clustering_OPTICS_TFID.labels_"
   ]
  },
  {
   "cell_type": "code",
   "execution_count": 24,
   "metadata": {},
   "outputs": [],
   "source": [
    "clustering_DB_W2V = DBSCAN().fit(w2v_vectors)\n",
    "clustering_OPTICS_W2V = OPTICS().fit(w2v_vectors )"
   ]
  },
  {
   "cell_type": "markdown",
   "metadata": {},
   "source": [
    "### e2"
   ]
  },
  {
   "cell_type": "code",
   "execution_count": 25,
   "metadata": {},
   "outputs": [
    {
     "data": {
      "text/plain": [
       "[<matplotlib.lines.Line2D at 0x270980f8c18>]"
      ]
     },
     "execution_count": 25,
     "metadata": {},
     "output_type": "execute_result"
    },
    {
     "data": {
      "image/png": "[encoded data removed]",
      "text/plain": [
       "<Figure size 432x288 with 1 Axes>"
      ]
     },
     "metadata": {
      "needs_background": "light"
     },
     "output_type": "display_data"
    }
   ],
   "source": [
    "link_TFID = linkage(X.toarray(), 'single', 'euclidean') \n",
    "dist_TFID = link_TFID[:, 2]\n",
    "plt.plot(dist_TFID)"
   ]
  },
  {
   "cell_type": "code",
   "execution_count": 26,
   "metadata": {},
   "outputs": [
    {
     "data": {
      "text/plain": [
       "[<matplotlib.lines.Line2D at 0x27097fb0dd8>]"
      ]
     },
     "execution_count": 26,
     "metadata": {},
     "output_type": "execute_result"
    },
    {
     "data": {
      "image/png": "[encoded data removed]",
      "text/plain": [
       "<Figure size 432x288 with 1 Axes>"
      ]
     },
     "metadata": {
      "needs_background": "light"
     },
     "output_type": "display_data"
    }
   ],
   "source": [
    "link_W2V = linkage(w2v_vectors, 'single', 'euclidean') \n",
    "dist_W2V = link_W2V[:, 2]\n",
    "plt.plot(dist_W2V)"
   ]
  },
  {
   "cell_type": "code",
   "execution_count": 27,
   "metadata": {},
   "outputs": [
    {
     "data": {
      "text/plain": [
       "[<matplotlib.lines.Line2D at 0x2709800fe80>]"
      ]
     },
     "execution_count": 27,
     "metadata": {},
     "output_type": "execute_result"
    },
    {
     "data": {
      "image/png": "[encoded data removed]",
      "text/plain": [
       "<Figure size 432x288 with 1 Axes>"
      ]
     },
     "metadata": {
      "needs_background": "light"
     },
     "output_type": "display_data"
    }
   ],
   "source": [
    "link_USE = linkage(sentence_embeddings, 'single', 'euclidean') \n",
    "dist_USE = link_USE[:, 2]\n",
    "plt.plot(dist_USE)"
   ]
  },
  {
   "cell_type": "code",
   "execution_count": 28,
   "metadata": {},
   "outputs": [],
   "source": [
    "# Using e2 error func\n",
    "\n",
    "def clust_linkage (dist):  \n",
    "    step = 0\n",
    "\n",
    "    for k in range(20, len(dist)):\n",
    "        a = 0\n",
    "        b = 0\n",
    "        c = 0\n",
    "        d = 0\n",
    "        for i in range(k):\n",
    "            a += (2*i + 1 - k)*dist[i]\n",
    "            b += (2*k - 1 - 3*i)*dist[i]\n",
    "            c += (6*i*i - (k - 1)*(2*k - 1))*dist[i]\n",
    "            d += (3*k*(k - 1) - 1 - 5*i*i)*dist[i]\n",
    "        a *= 6/(k*(k*k - 1))\n",
    "        b *= 2/(k*(k + 1))\n",
    "        c *= 30/(k*(k - 1)*(2*k - 1)*(8*k*k - 3*k - 11))\n",
    "        d *= 6/(k*(8*k*k - 3*k - 11))\n",
    "\n",
    "        lin_err = 0\n",
    "        sqr_err = 0\n",
    "        for i in range(k):\n",
    "            lin_err += (a*i + b - dist[i])**2\n",
    "            sqr_err += (c*i*i + d - dist[i])**2\n",
    "        if sqr_err < lin_err:\n",
    "            print(k)\n",
    "            return k\n",
    "            \n",
    "    "
   ]
  },
  {
   "cell_type": "code",
   "execution_count": 29,
   "metadata": {
    "scrolled": true
   },
   "outputs": [
    {
     "name": "stdout",
     "output_type": "stream",
     "text": [
      "109\n",
      "116\n",
      "116\n"
     ]
    },
    {
     "data": {
      "text/plain": [
       "[1916, 1909, 1909]"
      ]
     },
     "execution_count": 29,
     "metadata": {},
     "output_type": "execute_result"
    }
   ],
   "source": [
    "num_clusters = []\n",
    "for i in [dist_TFID, dist_W2V, dist_USE]:\n",
    "    num_clusters.append(2025 - clust_linkage(i))\n",
    "\n",
    "num_clusters"
   ]
  },
  {
   "cell_type": "code",
   "execution_count": 30,
   "metadata": {},
   "outputs": [
    {
     "data": {
      "text/plain": [
       "{'TFID': array([1651,  896,  610, ...,  191, 1567, 1437], dtype=int32),\n",
       " 'W2V': array([ 883,  568,  806, ...,  697,  634, 1647], dtype=int32),\n",
       " 'USE': array([ 883,  568,  806, ...,  697,  634, 1647], dtype=int32)}"
      ]
     },
     "execution_count": 30,
     "metadata": {},
     "output_type": "execute_result"
    }
   ],
   "source": [
    "single_clast = {}\n",
    "for i, j, k in zip([link_TFID, link_W2V, link_USE], ['TFID', 'W2V', 'USE'], num_clusters):\n",
    "    single_clast[j] = predicted = fcluster(i, t=k, criterion='maxclust')\n",
    "\n",
    "single_clast"
   ]
  },
  {
   "cell_type": "markdown",
   "metadata": {},
   "source": [
    "## Results\n"
   ]
  },
  {
   "cell_type": "code",
   "execution_count": 31,
   "metadata": {},
   "outputs": [],
   "source": [
    "def get_clusters():\n",
    "    clusters = []\n",
    "    for curr_dir in directories:\n",
    "        files_name = os.listdir(curr_dir)\n",
    "        for file in files_name:  \n",
    "            clusters.append(curr_dir)  \n",
    "    return clusters\n"
   ]
  },
  {
   "cell_type": "code",
   "execution_count": 32,
   "metadata": {},
   "outputs": [
    {
     "data": {
      "text/plain": [
       "{'TFID': [2.0790100803855428e-16, 0.13385604458882788, 0.3521995297490272],\n",
       " 'USE': [2.0790100803855428e-16, 0.04036886806399674, 0.35276161666503497],\n",
       " 'W2V': [2.0790100803855428e-16, 0.04036886806399674, 0.35276161666503497]}"
      ]
     },
     "execution_count": 32,
     "metadata": {},
     "output_type": "execute_result"
    }
   ],
   "source": [
    "from sklearn.metrics.cluster import v_measure_score\n",
    "\n",
    "clusters = get_clusters()\n",
    "results = {'TFID' : [v_measure_score(clusters, clustering_DB_TFID.labels_),\n",
    "                     v_measure_score(clusters, clustering_OPTICS_TFID.labels_),\n",
    "                     v_measure_score(clusters, single_clast['TFID'])],\n",
    "           \n",
    "           'USE' : [v_measure_score(clusters, clustering_DB_USE.labels_),\n",
    "                    v_measure_score(clusters, clustering_OPTICS_USE.labels_),\n",
    "                    v_measure_score(clusters, single_clast['USE'])],\n",
    "           \n",
    "           'W2V' : [v_measure_score(clusters, clustering_DB_W2V.labels_),\n",
    "                    v_measure_score(clusters, clustering_OPTICS_W2V.labels_),\n",
    "                    v_measure_score(clusters, single_clast['W2V'])]\n",
    "          }\n",
    "\n",
    "results"
   ]
  },
  {
   "cell_type": "code",
   "execution_count": 33,
   "metadata": {},
   "outputs": [],
   "source": [
    "from pandas import DataFrame as df"
   ]
  },
  {
   "cell_type": "code",
   "execution_count": 34,
   "metadata": {},
   "outputs": [
    {
     "data": {
      "text/html": [
       "<div>\n",
       "<style scoped>\n",
       "    .dataframe tbody tr th:only-of-type {\n",
       "        vertical-align: middle;\n",
       "    }\n",
       "\n",
       "    .dataframe tbody tr th {\n",
       "        vertical-align: top;\n",
       "    }\n",
       "\n",
       "    .dataframe thead th {\n",
       "        text-align: right;\n",
       "    }\n",
       "</style>\n",
       "<table border=\"1\" class=\"dataframe\">\n",
       "  <thead>\n",
       "    <tr style=\"text-align: right;\">\n",
       "      <th></th>\n",
       "      <th>TFID</th>\n",
       "      <th>USE</th>\n",
       "      <th>W2V</th>\n",
       "    </tr>\n",
       "  </thead>\n",
       "  <tbody>\n",
       "    <tr>\n",
       "      <th>DB_Scan</th>\n",
       "      <td>2.079010e-16</td>\n",
       "      <td>2.079010e-16</td>\n",
       "      <td>2.079010e-16</td>\n",
       "    </tr>\n",
       "    <tr>\n",
       "      <th>Optics</th>\n",
       "      <td>1.338560e-01</td>\n",
       "      <td>4.036887e-02</td>\n",
       "      <td>4.036887e-02</td>\n",
       "    </tr>\n",
       "    <tr>\n",
       "      <th>E_2</th>\n",
       "      <td>3.521995e-01</td>\n",
       "      <td>3.527616e-01</td>\n",
       "      <td>3.527616e-01</td>\n",
       "    </tr>\n",
       "  </tbody>\n",
       "</table>\n",
       "</div>"
      ],
      "text/plain": [
       "                 TFID           USE           W2V\n",
       "DB_Scan  2.079010e-16  2.079010e-16  2.079010e-16\n",
       "Optics   1.338560e-01  4.036887e-02  4.036887e-02\n",
       "E_2      3.521995e-01  3.527616e-01  3.527616e-01"
      ]
     },
     "metadata": {},
     "output_type": "display_data"
    }
   ],
   "source": [
    "stats = df(data = results, index = ['DB_Scan', 'Optics', 'E_2'])\n",
    "\n",
    "display(stats)"
   ]
  }
 ],
 "metadata": {
  "kernelspec": {
   "display_name": "Python 3",
   "language": "python",
   "name": "python3"
  },
  "language_info": {
   "codemirror_mode": {
    "name": "ipython",
    "version": 3
   },
   "file_extension": ".py",
   "mimetype": "text/x-python",
   "name": "python",
   "nbconvert_exporter": "python",
   "pygments_lexer": "ipython3",
   "version": "3.7.3"
  }
 },
 "nbformat": 4,
 "nbformat_minor": 2
}
